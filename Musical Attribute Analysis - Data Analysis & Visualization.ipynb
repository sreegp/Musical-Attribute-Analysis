{
 "cells": [
  {
   "cell_type": "markdown",
   "metadata": {},
   "source": [
    "# Musical Attribute Analysis -  Data Analysis & Visualization "
   ]
  },
  {
   "cell_type": "markdown",
   "metadata": {},
   "source": [
    "I will be focusing this analysis to answer the following question: **\"What makes up my musical taste?\"**\n",
    "\n",
    "We ended the previous [notebook](https://github.com/sreegp/Musical-Attribute-Analysis/blob/master/Musical%20Attribute%20Analysis%20-%20Data%20Collection%20%26%20Preprocessing.ipynb) with the dataset required for our analysis through data collection and preprocessing.\n",
    "\n",
    "**Dataset Attributes per Song:**\n",
    "\n",
    "- **Play Count:** Number of times the song was played\n",
    "\n",
    "- **Acousticness:** A confidence measure from 0.0 to 1.0 of whether the track is acoustic. 1.0 represents high confidence the track is acoustic.\n",
    "\n",
    "- **Danceability:** Danceability describes how suitable a track is for dancing based on a combination of musical elements including tempo, rhythm stability, beat strength, and overall regularity. A value of 0.0 is least danceable and 1.0 is most danceable.\n",
    "\n",
    "- **Energy:** Energy is a measure from 0.0 to 1.0 and represents a perceptual measure of intensity and activity. Typically, energetic tracks feel fast, loud, and noisy.\n",
    "\n",
    "- **Instrumentalness:** Predicts whether a track contains no vocals. Values above 0.5 are intended to represent instrumental tracks, but confidence is higher as the value approaches 1.0.\n",
    "\n",
    "- **Key:** The key the track is in. Integers map to pitches using standard Pitch Class notation. E.g. 0 = C, 1 = C♯/D♭, 2 = D, and so on.\n",
    "\n",
    "- **Liveness:** Detects the presence of an audience in the recording. A value above 0.8 provides strong likelihood that the track is live.\n",
    "\n",
    "- **Loudness:** The overall loudness of a track in decibels (dB). Loudness values are averaged across the entire track and are useful for comparing relative loudness of tracks. Values typical range between -60 and 0 db.\n",
    "\n",
    "- **Mode:** Mode indicates the modality (major or minor) of a track, the type of scale from which its melodic content is derived. Major is represented by 1 and minor is 0.\n",
    "\n",
    "- **Speechiness:** Speechiness detects the presence of spoken words in a track.\n",
    "\n",
    "- **Valence:** A measure from 0.0 to 1.0 describing the musical positiveness conveyed by a track. Tracks with high valence sound more positive (e.g. happy, cheerful, euphoric), while tracks with low valence sound more negative (e.g. sad, depressed, angry).\n",
    "\n",
    "- **Popularity:** Popularity of the song as defined by Spotify's algorithms which take into account factors like play count over a timeframe"
   ]
  },
  {
   "cell_type": "code",
   "execution_count": 5,
   "metadata": {
    "collapsed": true
   },
   "outputs": [],
   "source": [
    "%matplotlib inline\n",
    "import pandas as pd \n",
    "import numpy as np\n",
    "from pprint import pprint\n",
    "import json\n",
    "import math\n",
    "import matplotlib\n",
    "import matplotlib.pyplot as plt\n",
    "from scipy import stats\n",
    "import statistics\n",
    "import csv"
   ]
  },
  {
   "cell_type": "code",
   "execution_count": 3,
   "metadata": {
    "collapsed": false
   },
   "outputs": [],
   "source": [
    "music_data = json.load(open('final_data.json'))\n",
    "music_data = pd.DataFrame(music_data)"
   ]
  },
  {
   "cell_type": "markdown",
   "metadata": {},
   "source": [
    "### Sample Song, with Audio Features"
   ]
  },
  {
   "cell_type": "code",
   "execution_count": 9,
   "metadata": {
    "collapsed": false
   },
   "outputs": [
    {
     "data": {
      "text/plain": [
       "acousticness                                                     0.46\n",
       "album                           Coke Studio India Season 3: Episode 1\n",
       "album_uri                        spotify:album:2CStgaiOhe1w4OXAoqP1gl\n",
       "analysis_url        https://api.spotify.com/v1/audio-analysis/0Pua...\n",
       "artist                                                    A.R. Rahman\n",
       "artist_uri                      spotify:artist:1mYsTxnqsietFxj1OgoGbG\n",
       "danceability                                                    0.318\n",
       "duration_ms                                                    325787\n",
       "energy                                                          0.508\n",
       "id                                             0PuaYHseEiuGj3syu49k6G\n",
       "instrumentalness                                             0.000121\n",
       "key                                                                 1\n",
       "liveness                                                        0.106\n",
       "loudness                                                       -6.067\n",
       "mode                                                                1\n",
       "name                                                         Naan Yen\n",
       "name_uri                         spotify:track:0PuaYHseEiuGj3syu49k6G\n",
       "play_count                                                        339\n",
       "popularity                                                         26\n",
       "speechiness                                                    0.0319\n",
       "tempo                                                         157.897\n",
       "time_signature                                                      3\n",
       "track_href          https://api.spotify.com/v1/tracks/0PuaYHseEiuG...\n",
       "type                                                   audio_features\n",
       "uri                              spotify:track:0PuaYHseEiuGj3syu49k6G\n",
       "valence                                                         0.301\n",
       "Name: 0, dtype: object"
      ]
     },
     "execution_count": 9,
     "metadata": {},
     "output_type": "execute_result"
    }
   ],
   "source": [
    "music_data.iloc[0] # example"
   ]
  },
  {
   "cell_type": "code",
   "execution_count": 68,
   "metadata": {
    "collapsed": true
   },
   "outputs": [],
   "source": [
    "music_data_40 = music_data.loc[music_data['play_count'] > 39]"
   ]
  },
  {
   "cell_type": "markdown",
   "metadata": {},
   "source": [
    "## Data Analysis: General Trends\n",
    "\n",
    "We are going to start by looking at the a"
   ]
  },
  {
   "cell_type": "code",
   "execution_count": 4,
   "metadata": {
    "collapsed": false,
    "scrolled": true
   },
   "outputs": [
    {
     "name": "stdout",
     "output_type": "stream",
     "text": [
      "avg_acousticness: 0.460103940804\n",
      "avg_danceability: 0.529243483557\n",
      "avg_energy: 0.49125952497\n",
      "avg_instrumentalness: 0.217682307393\n",
      "mode_key: 0\n",
      "avg_liveness: 0.162953349574\n",
      "avg_loudness: -10.5854872107\n",
      "mode_mode: 1\n",
      "avg_popularity:34.8428745432\n",
      "avg_speechiness:0.0681495736906\n",
      "avg_valence: 0.404420584653\n",
      "mode_time_signature: 4\n"
     ]
    }
   ],
   "source": [
    "avg_acousticness = np.average(music_data['acousticness'])\n",
    "print(\"avg_acousticness: \" + str(avg_acousticness))\n",
    "\n",
    "avg_danceability  = np.average(music_data['danceability'])\n",
    "print(\"avg_danceability: \" + str(avg_danceability))\n",
    "\n",
    "avg_energy   = np.average(music_data['energy'])\n",
    "print( \"avg_energy: \" + str(avg_energy))\n",
    "\n",
    "avg_instrumentalness   = np.average(music_data['instrumentalness'])\n",
    "print( \"avg_instrumentalness: \" + str(avg_instrumentalness))\n",
    "\n",
    "mode_key = statistics.mode(music_data['key'])\n",
    "print( \"mode_key: \" + str (mode_key))\n",
    "\n",
    "avg_liveness = np.average(music_data['liveness'])\n",
    "print( \"avg_liveness: \" + str (avg_liveness))\n",
    "\n",
    "avg_loudness = np.average(music_data['loudness'])\n",
    "print( \"avg_loudness: \" + str(avg_loudness))\n",
    "\n",
    "mode_mode = statistics.mode(music_data['mode'])\n",
    "print( \"mode_mode: \" + str(mode_mode))\n",
    "\n",
    "avg_popularity  = np.average(music_data['popularity'])\n",
    "print( \"avg_popularity:\" + str(avg_popularity))\n",
    "\n",
    "avg_speechiness  = np.average(music_data['speechiness'])\n",
    "print( \"avg_speechiness:\" + str(avg_speechiness))\n",
    "\n",
    "avg_valence  = np.average(music_data['valence'])\n",
    "print( \"avg_valence: \" + str(avg_valence))\n",
    "\n",
    "mode_time_signature = statistics.mode(music_data['time_signature'])\n",
    "print(\"mode_time_signature: \" + str(mode_time_signature))\n"
   ]
  },
  {
   "cell_type": "markdown",
   "metadata": {},
   "source": [
    "## Key Take Aways\n",
    "The analysis shows that X% of my songs contains instrumental music, Y % of my songs contain live music, % of my songs contain loud music, % of my sounds contain speech and % of my songs are happy songs. Most of the songs are in the XX key, in a major ___ and have a time signature of 4 beats per bar. This means that I like songs that are vocal, recorded, loud, non-speech-like and melodramatic."
   ]
  },
  {
   "cell_type": "markdown",
   "metadata": {},
   "source": [
    "### Valence\n",
    "\n",
    "33 out of 50 songs are below the average valence of 0.4077, median is 0.347, which is lower than the average.. which means that the data is skewed to the left with a long tail of *right* valence songs, with a standard deviation of 0.24909953969447662\n",
    " (CHECK LATER)"
   ]
  },
  {
   "cell_type": "code",
   "execution_count": 10,
   "metadata": {
    "collapsed": false
   },
   "outputs": [
    {
     "data": {
      "text/plain": [
       "[<matplotlib.lines.Line2D at 0x7f528733bcf8>]"
      ]
     },
     "execution_count": 10,
     "metadata": {},
     "output_type": "execute_result"
    },
    {
     "data": {
      "image/png": "[encoded data removed]",
      "text/plain": [
       "<matplotlib.figure.Figure at 0x7f5287410630>"
      ]
     },
     "metadata": {},
     "output_type": "display_data"
    }
   ],
   "source": [
    "plt.plot(np.sort(music_data['valence']))"
   ]
  },
  {
   "cell_type": "code",
   "execution_count": 100,
   "metadata": {
    "collapsed": false
   },
   "outputs": [
    {
     "data": {
      "text/plain": [
       "array([ 0.0336,  0.0356,  0.057 ,  0.0997,  0.13  ,  0.154 ,  0.167 ,\n",
       "        0.172 ,  0.194 ,  0.195 ,  0.201 ,  0.211 ,  0.214 ,  0.217 ,\n",
       "        0.219 ,  0.235 ,  0.277 ,  0.292 ,  0.301 ,  0.313 ,  0.321 ,\n",
       "        0.327 ,  0.335 ,  0.343 ,  0.346 ,  0.349 ,  0.363 ,  0.369 ,\n",
       "        0.375 ,  0.376 ,  0.38  ,  0.395 ,  0.396 ,  0.424 ,  0.545 ,\n",
       "        0.549 ,  0.552 ,  0.553 ,  0.562 ,  0.597 ,  0.666 ,  0.711 ,\n",
       "        0.719 ,  0.722 ,  0.846 ,  0.849 ,  0.895 ,  0.931 ,  0.933 ,\n",
       "        0.939 ])"
      ]
     },
     "execution_count": 100,
     "metadata": {},
     "output_type": "execute_result"
    }
   ],
   "source": [
    "np.sort(music_data_40['valence'])"
   ]
  },
  {
   "cell_type": "code",
   "execution_count": 108,
   "metadata": {
    "collapsed": false
   },
   "outputs": [
    {
     "data": {
      "text/plain": [
       "0.34749999999999998"
      ]
     },
     "execution_count": 108,
     "metadata": {},
     "output_type": "execute_result"
    }
   ],
   "source": [
    "np.median(music_data_40['valence'])"
   ]
  },
  {
   "cell_type": "code",
   "execution_count": 112,
   "metadata": {
    "collapsed": false
   },
   "outputs": [
    {
     "data": {
      "text/plain": [
       "0.24909953969447662"
      ]
     },
     "execution_count": 112,
     "metadata": {},
     "output_type": "execute_result"
    }
   ],
   "source": [
    "np.std(music_data_40['valence'])"
   ]
  },
  {
   "cell_type": "code",
   "execution_count": 114,
   "metadata": {
    "collapsed": true
   },
   "outputs": [],
   "source": [
    "from sklearn.cluster import KMeans "
   ]
  },
  {
   "cell_type": "code",
   "execution_count": 227,
   "metadata": {
    "collapsed": true
   },
   "outputs": [],
   "source": [
    "kmeans = KMeans(n_clusters=3)"
   ]
  },
  {
   "cell_type": "code",
   "execution_count": 228,
   "metadata": {
    "collapsed": false
   },
   "outputs": [],
   "source": [
    "X = music_data[['instrumentalness','popularity','tempo', 'speechiness']]"
   ]
  },
  {
   "cell_type": "code",
   "execution_count": 229,
   "metadata": {
    "collapsed": false
   },
   "outputs": [
    {
     "name": "stdout",
     "output_type": "stream",
     "text": [
      "[[  2.44560088e-01   3.04767442e+01   1.50339702e+02   8.16887597e-02]\n",
      " [  3.12035979e-01   1.72452229e+01   9.54092548e+01   6.32324841e-02]\n",
      " [  7.08488919e-02   6.15582329e+01   1.08951622e+02   6.03216867e-02]]\n",
      "[0 1 2 1 1 0 2 2 1 2 2 1 0 2 2 2 1 1 2 2 2 2 2 0 0 2 2 1 2 2 0 2 0 1 2 0 0\n",
      " 2 1 1 2 2 2 0 2 2 1 1 2 0 0 0 2 1 0 2 2 2 2 2 2 2 0 2 2 2 2 0 0 2 2 2 1 0\n",
      " 0 2 2 2 2 2 1 0 2 2 2 1 2 1 1 2 1 2 2 0 2 2 0 2 2 2 0 1 2 0 2 0 1 0 2 2 2\n",
      " 0 0 1 0 1 0 2 1 1 0 0 2 1 0 2 2 1 0 0 2 1 2 1 0 2 2 2 1 0 0 2 0 0 0 2 1 0\n",
      " 1 2 2 0 1 1 2 1 0 1 1 2 2 2 0 1 2 1 0 1 1 2 1 2 0 1 1 1 2 2 2 0 2 0 0 0 1\n",
      " 1 0 2 2 1 0 2 0 2 2 1 2 2 0 1 1 2 0 0 0 2 0 2 0 1 1 1 1 1 0 2 2 2 2 2 0 2\n",
      " 1 2 0 2 0 0 1 1 0 0 2 1 0 1 1 2 1 1 1 2 2 0 0 1 2 2 0 0 0 1 1 1 1 1 1 1 2\n",
      " 2 2 0 2 2 1 2 2 2 0 1 1 0 0 0 0 1 0 1 0 0 1 1 1 0 1 0 2 2 0 0 2 1 1 2 2 0\n",
      " 0 2 0 1 2 1 2 0 1 1 0 1 1 2 0 1 1 0 0 0 1 1 0 1 0 2 2 2 1 2 1 1 1 0 1 0 2\n",
      " 1 2 1 1 2 1 0 1 1 0 1 0 1 0 0 0 1 0 0 0 0 1 1 2 2 0 1 1 1 0 2 2 2 2 0 2 2\n",
      " 0 2 1 1 1 1 1 1 2 0 1 0 1 1 1 0 0 1 1 0 1 0 0 0 1 0 1 1 1 1 1 2 2 2 0 2 2\n",
      " 2 1 1 1 0 2 0 2 2 1 1 0 1 0 2 1 2 1 2 0 1 0 0 1 0 0 1 1 1 1 0 0 0 1 0 2 0\n",
      " 0 2 0 2 2 2 1 1 2 2 2 2 2 1 1 2 2 0 2 1 1 2 0 1 0 1 2 0 2 0 1 1 2 1 0 0 1\n",
      " 1 1 1 0 1 1 1 0 1 0 1 1 1 2 2 0 2 1 2 2 2 2 0 2 2 2 2 0 0 0 0 1 2 2 0 1 1\n",
      " 1 2 2 1 2 0 0 2 1 0 1 0 1 0 1 1 1 2 1 0 1 2 2 1 0 1 2 1 2 0 1 1 2 1 1 0 1\n",
      " 2 2 1 1 1 1 1 1 1 0 0 1 2 2 2 2 0 1 0 1 0 2 0 0 2 1 0 2 1 2 2 0 2 1 0 2 2\n",
      " 2 1 1 0 1 0 1 2 0 0 0 0 0 0 1 0 0 0 1 0 2 2 0 1 1 0 1 1 0 0 1 1 0 0 1 0 1\n",
      " 1 1 0 1 0 1 1 1 1 0 2 0 0 1 2 2 1 0 1 1 1 1 1 0 1 0 2 0 1 0 2 1 2 2 2 2 2\n",
      " 0 2 1 0 1 2 0 0 2 1 0 1 1 1 1 2 2 2 2 1 0 1 1 0 2 0 1 1 1 1 0 1 0 1 1 1 0\n",
      " 2 0 0 0 2 2 2 0 0 1 1 1 1 1 1 0 1 1 2 1 0 1 2 0 1 0 0 1 1 1 0 1 0 1 1 1 1\n",
      " 0 1 1 1 1 0 1 2 2 1 1 0 0 0 2 2 1 0 2 1 1 0 1 0 1 1 1 1 0 0 1 1 0 0 1 0 2\n",
      " 1 0 0 0 0 0 1 1 1 1 1 0 1 0 0 0 2 1 2 1 1 0 1 1 1 2 0 0 2 0 0 1 1 0 1 0 1\n",
      " 0 1 1 1 1 0 1]\n"
     ]
    }
   ],
   "source": [
    "kmeans.fit(X) # fit input data\n",
    "prediction = kmeans.predict(X) # get labels\n",
    "print(kmeans.cluster_centers_)\n",
    "print(prediction)\n"
   ]
  },
  {
   "cell_type": "code",
   "execution_count": 230,
   "metadata": {
    "collapsed": false
   },
   "outputs": [],
   "source": [
    "map_prediction_name = pd.DataFrame(music_data['name'])\n",
    "map_prediction_name['artist'] = music_data['artist']\n",
    "map_prediction_name['album'] = music_data['album']\n",
    "map_prediction_name['prediction'] = prediction"
   ]
  },
  {
   "cell_type": "code",
   "execution_count": 231,
   "metadata": {
    "collapsed": false
   },
   "outputs": [
    {
     "data": {
      "text/html": [
       "<div>\n",
       "<table border=\"1\" class=\"dataframe\">\n",
       "  <thead>\n",
       "    <tr style=\"text-align: right;\">\n",
       "      <th></th>\n",
       "      <th>name</th>\n",
       "      <th>artist</th>\n",
       "      <th>album</th>\n",
       "      <th>prediction</th>\n",
       "    </tr>\n",
       "  </thead>\n",
       "  <tbody>\n",
       "    <tr>\n",
       "      <th>2</th>\n",
       "      <td>Daydreamer</td>\n",
       "      <td>Adele</td>\n",
       "      <td>19</td>\n",
       "      <td>2</td>\n",
       "    </tr>\n",
       "    <tr>\n",
       "      <th>6</th>\n",
       "      <td>Make You Feel My Love</td>\n",
       "      <td>Adele</td>\n",
       "      <td>19</td>\n",
       "      <td>2</td>\n",
       "    </tr>\n",
       "    <tr>\n",
       "      <th>7</th>\n",
       "      <td>Chasing Pavements</td>\n",
       "      <td>Adele</td>\n",
       "      <td>19</td>\n",
       "      <td>2</td>\n",
       "    </tr>\n",
       "    <tr>\n",
       "      <th>9</th>\n",
       "      <td>Best For Last</td>\n",
       "      <td>Adele</td>\n",
       "      <td>19</td>\n",
       "      <td>2</td>\n",
       "    </tr>\n",
       "    <tr>\n",
       "      <th>10</th>\n",
       "      <td>My Same</td>\n",
       "      <td>Adele</td>\n",
       "      <td>19</td>\n",
       "      <td>2</td>\n",
       "    </tr>\n",
       "    <tr>\n",
       "      <th>14</th>\n",
       "      <td>First Love</td>\n",
       "      <td>Adele</td>\n",
       "      <td>19</td>\n",
       "      <td>2</td>\n",
       "    </tr>\n",
       "    <tr>\n",
       "      <th>15</th>\n",
       "      <td>Crazy For You</td>\n",
       "      <td>Adele</td>\n",
       "      <td>19</td>\n",
       "      <td>2</td>\n",
       "    </tr>\n",
       "    <tr>\n",
       "      <th>19</th>\n",
       "      <td>Melt My Heart To Stone</td>\n",
       "      <td>Adele</td>\n",
       "      <td>19</td>\n",
       "      <td>2</td>\n",
       "    </tr>\n",
       "    <tr>\n",
       "      <th>20</th>\n",
       "      <td>Tired</td>\n",
       "      <td>Adele</td>\n",
       "      <td>19</td>\n",
       "      <td>2</td>\n",
       "    </tr>\n",
       "    <tr>\n",
       "      <th>25</th>\n",
       "      <td>Cold Shoulder</td>\n",
       "      <td>Adele</td>\n",
       "      <td>19</td>\n",
       "      <td>2</td>\n",
       "    </tr>\n",
       "    <tr>\n",
       "      <th>29</th>\n",
       "      <td>Hometown Glory</td>\n",
       "      <td>Adele</td>\n",
       "      <td>19</td>\n",
       "      <td>2</td>\n",
       "    </tr>\n",
       "    <tr>\n",
       "      <th>30</th>\n",
       "      <td>Right As Rain</td>\n",
       "      <td>Adele</td>\n",
       "      <td>19</td>\n",
       "      <td>0</td>\n",
       "    </tr>\n",
       "    <tr>\n",
       "      <th>36</th>\n",
       "      <td>Send My Love (To Your New Lover)</td>\n",
       "      <td>Adele</td>\n",
       "      <td>25</td>\n",
       "      <td>0</td>\n",
       "    </tr>\n",
       "    <tr>\n",
       "      <th>44</th>\n",
       "      <td>All I Ask</td>\n",
       "      <td>Adele</td>\n",
       "      <td>25</td>\n",
       "      <td>2</td>\n",
       "    </tr>\n",
       "    <tr>\n",
       "      <th>45</th>\n",
       "      <td>Don't You Remember</td>\n",
       "      <td>Adele</td>\n",
       "      <td>21</td>\n",
       "      <td>2</td>\n",
       "    </tr>\n",
       "    <tr>\n",
       "      <th>54</th>\n",
       "      <td>He Won't Go</td>\n",
       "      <td>Adele</td>\n",
       "      <td>21</td>\n",
       "      <td>0</td>\n",
       "    </tr>\n",
       "    <tr>\n",
       "      <th>59</th>\n",
       "      <td>When We Were Young</td>\n",
       "      <td>Adele</td>\n",
       "      <td>25</td>\n",
       "      <td>2</td>\n",
       "    </tr>\n",
       "    <tr>\n",
       "      <th>70</th>\n",
       "      <td>Someone Like You</td>\n",
       "      <td>Adele</td>\n",
       "      <td>21</td>\n",
       "      <td>2</td>\n",
       "    </tr>\n",
       "    <tr>\n",
       "      <th>78</th>\n",
       "      <td>Take It All</td>\n",
       "      <td>Adele</td>\n",
       "      <td>21</td>\n",
       "      <td>2</td>\n",
       "    </tr>\n",
       "    <tr>\n",
       "      <th>94</th>\n",
       "      <td>One And Only</td>\n",
       "      <td>Adele</td>\n",
       "      <td>21</td>\n",
       "      <td>2</td>\n",
       "    </tr>\n",
       "    <tr>\n",
       "      <th>95</th>\n",
       "      <td>I Miss You</td>\n",
       "      <td>Adele</td>\n",
       "      <td>25</td>\n",
       "      <td>2</td>\n",
       "    </tr>\n",
       "    <tr>\n",
       "      <th>107</th>\n",
       "      <td>Sweetest Devotion</td>\n",
       "      <td>Adele</td>\n",
       "      <td>25</td>\n",
       "      <td>0</td>\n",
       "    </tr>\n",
       "    <tr>\n",
       "      <th>121</th>\n",
       "      <td>I'll Be Waiting</td>\n",
       "      <td>Adele</td>\n",
       "      <td>21</td>\n",
       "      <td>0</td>\n",
       "    </tr>\n",
       "    <tr>\n",
       "      <th>122</th>\n",
       "      <td>Million Years Ago</td>\n",
       "      <td>Adele</td>\n",
       "      <td>25</td>\n",
       "      <td>2</td>\n",
       "    </tr>\n",
       "    <tr>\n",
       "      <th>135</th>\n",
       "      <td>Lovesong</td>\n",
       "      <td>Adele</td>\n",
       "      <td>21</td>\n",
       "      <td>2</td>\n",
       "    </tr>\n",
       "    <tr>\n",
       "      <th>136</th>\n",
       "      <td>Love in the Dark</td>\n",
       "      <td>Adele</td>\n",
       "      <td>25</td>\n",
       "      <td>2</td>\n",
       "    </tr>\n",
       "    <tr>\n",
       "      <th>144</th>\n",
       "      <td>Remedy</td>\n",
       "      <td>Adele</td>\n",
       "      <td>25</td>\n",
       "      <td>0</td>\n",
       "    </tr>\n",
       "    <tr>\n",
       "      <th>145</th>\n",
       "      <td>Water Under the Bridge</td>\n",
       "      <td>Adele</td>\n",
       "      <td>25</td>\n",
       "      <td>2</td>\n",
       "    </tr>\n",
       "    <tr>\n",
       "      <th>169</th>\n",
       "      <td>River Lea</td>\n",
       "      <td>Adele</td>\n",
       "      <td>25</td>\n",
       "      <td>2</td>\n",
       "    </tr>\n",
       "  </tbody>\n",
       "</table>\n",
       "</div>"
      ],
      "text/plain": [
       "                                 name artist album  prediction\n",
       "2                          Daydreamer  Adele    19           2\n",
       "6               Make You Feel My Love  Adele    19           2\n",
       "7                   Chasing Pavements  Adele    19           2\n",
       "9                       Best For Last  Adele    19           2\n",
       "10                            My Same  Adele    19           2\n",
       "14                         First Love  Adele    19           2\n",
       "15                      Crazy For You  Adele    19           2\n",
       "19             Melt My Heart To Stone  Adele    19           2\n",
       "20                              Tired  Adele    19           2\n",
       "25                      Cold Shoulder  Adele    19           2\n",
       "29                     Hometown Glory  Adele    19           2\n",
       "30                      Right As Rain  Adele    19           0\n",
       "36   Send My Love (To Your New Lover)  Adele    25           0\n",
       "44                          All I Ask  Adele    25           2\n",
       "45                 Don't You Remember  Adele    21           2\n",
       "54                        He Won't Go  Adele    21           0\n",
       "59                 When We Were Young  Adele    25           2\n",
       "70                   Someone Like You  Adele    21           2\n",
       "78                        Take It All  Adele    21           2\n",
       "94                       One And Only  Adele    21           2\n",
       "95                         I Miss You  Adele    25           2\n",
       "107                 Sweetest Devotion  Adele    25           0\n",
       "121                   I'll Be Waiting  Adele    21           0\n",
       "122                 Million Years Ago  Adele    25           2\n",
       "135                          Lovesong  Adele    21           2\n",
       "136                  Love in the Dark  Adele    25           2\n",
       "144                            Remedy  Adele    25           0\n",
       "145            Water Under the Bridge  Adele    25           2\n",
       "169                         River Lea  Adele    25           2"
      ]
     },
     "execution_count": 231,
     "metadata": {},
     "output_type": "execute_result"
    }
   ],
   "source": [
    "map_prediction_name[map_prediction_name['artist'] == '']"
   ]
  },
  {
   "cell_type": "code",
   "execution_count": 207,
   "metadata": {
    "collapsed": false
   },
   "outputs": [
    {
     "data": {
      "text/plain": [
       "0                             Naan Yen\n",
       "1                  Vishnu Sahasranamam\n",
       "2                           Daydreamer\n",
       "3                            Aao Balma\n",
       "4                    Ennile Maha Oliyo\n",
       "5                   Jagaao Mere Des Ko\n",
       "6                Make You Feel My Love\n",
       "7                    Chasing Pavements\n",
       "8                               Zariya\n",
       "9                        Best For Last\n",
       "10                             My Same\n",
       "11                        Nenjae Yezhu\n",
       "12                        Soz O Salaam\n",
       "13                       Steal My Girl\n",
       "14                          First Love\n",
       "15                       Crazy For You\n",
       "16                        Aye Sinamika\n",
       "17                Naetru Aval Irundhal\n",
       "18       Every Teardrop Is a Waterfall\n",
       "19              Melt My Heart To Stone\n",
       "20                               Tired\n",
       "21                         Amazing Day\n",
       "22                          Photograph\n",
       "23                     Mental Manadhil\n",
       "24                       The Scientist\n",
       "25                       Cold Shoulder\n",
       "26                                Sing\n",
       "27                  Parandhu Sella Vaa\n",
       "28        All I Can Think About Is You\n",
       "29                      Hometown Glory\n",
       "30                       Right As Rain\n",
       "31                            Believer\n",
       "32                               Fanaa\n",
       "33                       Aazha Kannaal\n",
       "34                        Shape of You\n",
       "35                         Ay Hairathe\n",
       "36    Send My Love (To Your New Lover)\n",
       "37                  How To Save A Life\n",
       "38             Adventure of a Lifetime\n",
       "39                 Rolling In The Deep\n",
       "40                               Don't\n",
       "41                 Hooked on a Feeling\n",
       "42                Us Against the World\n",
       "43                              Jag Ja\n",
       "44                           All I Ask\n",
       "45                  Don't You Remember\n",
       "46                Hymn for the Weekend\n",
       "47               How Deep Is Your Love\n",
       "48                     Colour Spectrum\n",
       "49                            Farewell\n",
       "Name: name, dtype: object"
      ]
     },
     "execution_count": 207,
     "metadata": {},
     "output_type": "execute_result"
    }
   ],
   "source": [
    "music_data_40['name']"
   ]
  },
  {
   "cell_type": "code",
   "execution_count": null,
   "metadata": {
    "collapsed": true
   },
   "outputs": [],
   "source": []
  }
 ],
 "metadata": {
  "kernelspec": {
   "display_name": "Python 3",
   "language": "python",
   "name": "python3"
  },
  "language_info": {
   "codemirror_mode": {
    "name": "ipython",
    "version": 3
   },
   "file_extension": ".py",
   "mimetype": "text/x-python",
   "name": "python",
   "nbconvert_exporter": "python",
   "pygments_lexer": "ipython3",
   "version": "3.4.0"
  }
 },
 "nbformat": 4,
 "nbformat_minor": 0
}
