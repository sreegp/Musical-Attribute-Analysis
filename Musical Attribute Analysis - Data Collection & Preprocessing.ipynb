{
 "cells": [
  {
   "cell_type": "markdown",
   "metadata": {},
   "source": [
    "# Musical Attribute Analysis -  Data Collection & Preprocessing\n",
    "\n",
    "I have always been passionate about music and an avid music listener from a young age. I will be focusing this analysis to answer the following question: **\"What makes up my musical taste?\"**\n",
    "\n",
    "In order to answer this question, I will be analyzing Audio Features of every song I listen to by utilizing the Spotify API. I have explained the Data Collection, Preprocessing, Analysis and Vizualization process in detail below.\n",
    "\n",
    "This [notebook](https://github.com/sreegp/Musical-Attribute-Analysis/blob/master/Musical%20Attribute%20Analysis%20-%20Data%20Collection%20%26%20Preprocessing.ipynb) focuses on Data Collection & Preprocessing, and the second [notebook](https://github.com/sreegp/Musical-Attribute-Analysis/blob/master/Musical%20Attribute%20Analysis%20-%20Data%20Analysis%20%26%20Visualization.ipynb) focuses on Data Analysis and Vizualization.  "
   ]
  },
  {
   "cell_type": "code",
   "execution_count": 16,
   "metadata": {
    "collapsed": true
   },
   "outputs": [],
   "source": [
    "import pandas as pd \n",
    "import numpy as np\n",
    "from pprint import pprint\n",
    "import json\n",
    "import math\n",
    "import spotipy \n",
    "sp = spotipy.Spotify() \n",
    "from spotipy.oauth2 import SpotifyClientCredentials \n",
    "\n",
    "cid = \"\" \n",
    "secret = \"\"\n",
    "client_credentials_manager = SpotifyClientCredentials(client_id=cid, client_secret=secret) \n",
    "sp = spotipy.Spotify(client_credentials_manager=client_credentials_manager) \n",
    "sp.trace=False \n"
   ]
  },
  {
   "cell_type": "markdown",
   "metadata": {},
   "source": [
    "## Data Collection: Input Data From iTunes\n",
    "\n",
    "Since I mostly use iTunes as my primary music library, I **exported my top ~4000 iTunes songs**, ranked by # of times played, into a csv (itunes_music.csv).\n",
    "\n",
    "Attributes imported per song:\n",
    "- **Name**\n",
    "- **Artist**\n",
    "- **Album**\n",
    "- **Genre**\n",
    "- **Played (i.e. play count)**"
   ]
  },
  {
   "cell_type": "code",
   "execution_count": 2,
   "metadata": {
    "collapsed": true
   },
   "outputs": [],
   "source": [
    "itunes_data = pd.read_csv('itunes_music.csv')"
   ]
  },
  {
   "cell_type": "markdown",
   "metadata": {},
   "source": [
    "### Sample iTunes Data "
   ]
  },
  {
   "cell_type": "code",
   "execution_count": 3,
   "metadata": {
    "collapsed": false,
    "scrolled": true
   },
   "outputs": [
    {
     "data": {
      "text/html": [
       "<div>\n",
       "<table border=\"1\" class=\"dataframe\">\n",
       "  <thead>\n",
       "    <tr style=\"text-align: right;\">\n",
       "      <th></th>\n",
       "      <th>name</th>\n",
       "      <th>artist</th>\n",
       "      <th>album</th>\n",
       "      <th>genre</th>\n",
       "      <th>played</th>\n",
       "    </tr>\n",
       "  </thead>\n",
       "  <tbody>\n",
       "    <tr>\n",
       "      <th>0</th>\n",
       "      <td>Naan Yen</td>\n",
       "      <td>A. R. Rahman &amp; Rayhanah</td>\n",
       "      <td>Coke Studio India Season 3: Episode 1</td>\n",
       "      <td>Indian Pop</td>\n",
       "      <td>339</td>\n",
       "    </tr>\n",
       "    <tr>\n",
       "      <th>1</th>\n",
       "      <td>Vishnu Sahasranamam</td>\n",
       "      <td>Devotional Songs</td>\n",
       "      <td>Vishnu Sahasranamam</td>\n",
       "      <td>Soundtrack</td>\n",
       "      <td>210</td>\n",
       "    </tr>\n",
       "    <tr>\n",
       "      <th>2</th>\n",
       "      <td>Rehna Tu</td>\n",
       "      <td>A.R. Rahman</td>\n",
       "      <td>MTV Unplugged</td>\n",
       "      <td>Video</td>\n",
       "      <td>204</td>\n",
       "    </tr>\n",
       "    <tr>\n",
       "      <th>3</th>\n",
       "      <td>Maahi Ve</td>\n",
       "      <td>A.R.Rahman</td>\n",
       "      <td>Highway</td>\n",
       "      <td>StarMusiQ.Com</td>\n",
       "      <td>190</td>\n",
       "    </tr>\n",
       "    <tr>\n",
       "      <th>4</th>\n",
       "      <td>Daydreamer</td>\n",
       "      <td>Adele</td>\n",
       "      <td>19</td>\n",
       "      <td>Pop</td>\n",
       "      <td>183</td>\n",
       "    </tr>\n",
       "  </tbody>\n",
       "</table>\n",
       "</div>"
      ],
      "text/plain": [
       "                  name                   artist  \\\n",
       "0             Naan Yen  A. R. Rahman & Rayhanah   \n",
       "1  Vishnu Sahasranamam         Devotional Songs   \n",
       "2             Rehna Tu              A.R. Rahman   \n",
       "3             Maahi Ve               A.R.Rahman   \n",
       "4           Daydreamer                    Adele   \n",
       "\n",
       "                                   album          genre   played  \n",
       "0  Coke Studio India Season 3: Episode 1     Indian Pop      339  \n",
       "1                    Vishnu Sahasranamam     Soundtrack      210  \n",
       "2                          MTV Unplugged          Video      204  \n",
       "3                                Highway  StarMusiQ.Com      190  \n",
       "4                                     19            Pop      183  "
      ]
     },
     "execution_count": 3,
     "metadata": {},
     "output_type": "execute_result"
    }
   ],
   "source": [
    "itunes_data.head() # Example of top 5 songs"
   ]
  },
  {
   "cell_type": "markdown",
   "metadata": {},
   "source": [
    "## Data Preprocessing: Mapping Songs between iTunes Dataset and Spotify\n",
    "\n",
    "In order to utilize audio features from the Spotify API, I had to map songs in my iTunes library to unique song 'name_uri' in the Spotify API. 'Name_uri' is used to reference songs throughout the Spotify API.\n",
    "\n",
    "To obtain an accurate search, I created a query for every song by appending 'Song Name' + 'Song Album'. \n",
    "Using the query and the Spotify Search API, I obtained a unique Spotify handler (name_uri) for every song, which I can then use for further analysis. \n",
    "\n",
    "Out of the **~4000 iTunes songs**, I was only able to find **821** songs on Spotify. This was due to the difference in coverage of artists between iTunes and Spotify. The data was then dumped into result.json file.\n",
    "\n"
   ]
  },
  {
   "cell_type": "code",
   "execution_count": 4,
   "metadata": {
    "collapsed": false,
    "scrolled": true
   },
   "outputs": [],
   "source": [
    "result = []\n",
    "\n",
    "for index, row in itunes_data.iterrows():\n",
    "    if (pd.isnull(row[0]) == True) or (pd.isnull(row[2]) == True):\n",
    "        continue\n",
    "    else:    \n",
    "        q = row[0] +  ' ' + row[2] # query song name + song album\n",
    "        play_count = row[4] # number of time I played song\n",
    "        search_response = sp.search(q = q, limit = 10)\n",
    "        if search_response['tracks']['total'] == 0:\n",
    "            continue\n",
    "        else:\n",
    "            for i in range(len(search_response['tracks']['items'])):\n",
    "                if search_response['tracks']['items'][i]['name']  == row[0]:\n",
    "                    result.append({\"name\": row[0], \n",
    "                                   \"artist\": search_response['tracks']['items'][i]['artists'][0]['name'],\n",
    "                                      \"artist_uri\": search_response['tracks']['items'][i]['artists'][0]['uri'], \n",
    "                                      \"album\": search_response['tracks']['items'][i]['album']['name'], \n",
    "                                      \"album_uri\": search_response['tracks']['items'][i]['album']['uri'],\n",
    "                                      \"popularity\": search_response['tracks']['items'][i]['popularity'],\n",
    "                                      \"name_uri\": search_response['tracks']['items'][i]['uri'],\n",
    "                                      \"play_count\": play_count \n",
    "                                     })\n",
    "                    break\n",
    "                else:\n",
    "                    continue\n",
    "\n",
    "with open('result.json', 'w') as outfile:\n",
    "    json.dump(result, outfile)"
   ]
  },
  {
   "cell_type": "markdown",
   "metadata": {},
   "source": [
    "### Sample Song, with Spotify URI"
   ]
  },
  {
   "cell_type": "code",
   "execution_count": 11,
   "metadata": {
    "collapsed": false
   },
   "outputs": [
    {
     "data": {
      "text/plain": [
       "{'album': 'Coke Studio India Season 3: Episode 1',\n",
       " 'album_uri': 'spotify:album:2CStgaiOhe1w4OXAoqP1gl',\n",
       " 'artist': 'A.R. Rahman',\n",
       " 'artist_uri': 'spotify:artist:1mYsTxnqsietFxj1OgoGbG',\n",
       " 'name': 'Naan Yen',\n",
       " 'name_uri': 'spotify:track:0PuaYHseEiuGj3syu49k6G',\n",
       " 'play_count': 339,\n",
       " 'popularity': 26}"
      ]
     },
     "execution_count": 11,
     "metadata": {},
     "output_type": "execute_result"
    }
   ],
   "source": [
    "result[0] # Sample Song "
   ]
  },
  {
   "cell_type": "markdown",
   "metadata": {},
   "source": [
    "### Ensuring Data Entries are Unique"
   ]
  },
  {
   "cell_type": "code",
   "execution_count": 260,
   "metadata": {
    "collapsed": false
   },
   "outputs": [
    {
     "name": "stdout",
     "output_type": "stream",
     "text": [
      "Num of unique data points=821\n"
     ]
    }
   ],
   "source": [
    "data = json.load(open('result.json'))\n",
    "## check if all data points are unique based off 'name album' key. If not unique, then delete.\n",
    "seen_before = {}\n",
    "for i in range(len(data)):\n",
    "    if (data[i]['name'] + ' ' + data[i]['album']) in seen_before:\n",
    "        seen_before[data[i]['name'] + ' ' + data[i]['album']] += 1\n",
    "        del data[i]\n",
    "    else:\n",
    "        seen_before[data[i]['name'] + ' ' + data[i]['album']] = 1\n",
    "print(\"Num of unique data points=\"+ str(len(data)))"
   ]
  },
  {
   "cell_type": "markdown",
   "metadata": {},
   "source": [
    "## Data Preprocessing: Retrieve Audio Features for each Song through Spotify API\n",
    "\n",
    "For each song, the Spotify Audio Features API (https://developer.spotify.com/web-api/get-audio-features/) is called to obtain the following features per track. We now have the preprocessed dataset required for analysis. This dataset is stored in final_data.json.\n",
    "\n",
    "The following are details regarding the attibutes/features in the dataset extracted from Spotify.com.\n",
    "\n",
    "- **Acousticness:** A confidence measure from 0.0 to 1.0 of whether the track is acoustic. 1.0 represents high confidence the track is acoustic.\n",
    "\n",
    "- **Danceability:** Danceability describes how suitable a track is for dancing based on a combination of musical elements including tempo, rhythm stability, beat strength, and overall regularity. A value of 0.0 is least danceable and 1.0 is most danceable.\n",
    "\n",
    "- **Energy:** Energy is a measure from 0.0 to 1.0 and represents a perceptual measure of intensity and activity. Typically, energetic tracks feel fast, loud, and noisy.\n",
    "\n",
    "- **Instrumentalness:** Predicts whether a track contains no vocals. Values above 0.5 are intended to represent instrumental tracks, but confidence is higher as the value approaches 1.0.\n",
    "\n",
    "- **Key:** The key the track is in. Integers map to pitches using standard Pitch Class notation. E.g. 0 = C, 1 = C♯/D♭, 2 = D, and so on.\n",
    "\n",
    "- **Liveness:** Detects the presence of an audience in the recording. A value above 0.8 provides strong likelihood that the track is live.\n",
    "\n",
    "- **Loudness:** The overall loudness of a track in decibels (dB). Loudness values are averaged across the entire track and are useful for comparing relative loudness of tracks. Values typical range between -60 and 0 db.\n",
    "\n",
    "- **Mode:** Mode indicates the modality (major or minor) of a track, the type of scale from which its melodic content is derived. Major is represented by 1 and minor is 0.\n",
    "\n",
    "- **Speechiness:** Speechiness detects the presence of spoken words in a track.\n",
    "\n",
    "- **Valence:** A measure from 0.0 to 1.0 describing the musical positiveness conveyed by a track. Tracks with high valence sound more positive (e.g. happy, cheerful, euphoric), while tracks with low valence sound more negative (e.g. sad, depressed, angry).\n",
    "\n",
    "- **Popularity:** Popularity of the song as defined by Spotify's algorithms which take into account factors like play count over a timeframe"
   ]
  },
  {
   "cell_type": "code",
   "execution_count": 276,
   "metadata": {
    "collapsed": false
   },
   "outputs": [],
   "source": [
    "data_with_features = []\n",
    "\n",
    "for i in range(len(data)):\n",
    "    temp_features = sp.audio_features(data[i]['name_uri'].split(':')[2])[0]\n",
    "    temp = temp_features.copy()\n",
    "    temp.update(data[i])\n",
    "    data_with_features.append(temp)\n",
    "\n",
    "with open('final_data.json', 'w') as outfile:\n",
    "    json.dump(data_with_features, outfile, sort_keys=True, indent=4)\n",
    "\n",
    "# data has been saved to 'final_data.json'"
   ]
  },
  {
   "cell_type": "markdown",
   "metadata": {},
   "source": [
    "### Sample Song with Audio Features"
   ]
  },
  {
   "cell_type": "code",
   "execution_count": 17,
   "metadata": {
    "collapsed": false,
    "scrolled": true
   },
   "outputs": [
    {
     "name": "stdout",
     "output_type": "stream",
     "text": [
      "{'acousticness': 0.46,\n",
      " 'album': 'Coke Studio India Season 3: Episode 1',\n",
      " 'album_uri': 'spotify:album:2CStgaiOhe1w4OXAoqP1gl',\n",
      " 'analysis_url': 'https://api.spotify.com/v1/audio-analysis/0PuaYHseEiuGj3syu49k6G',\n",
      " 'artist': 'A.R. Rahman',\n",
      " 'artist_uri': 'spotify:artist:1mYsTxnqsietFxj1OgoGbG',\n",
      " 'danceability': 0.318,\n",
      " 'duration_ms': 325787,\n",
      " 'energy': 0.508,\n",
      " 'id': '0PuaYHseEiuGj3syu49k6G',\n",
      " 'instrumentalness': 0.000121,\n",
      " 'key': 1,\n",
      " 'liveness': 0.106,\n",
      " 'loudness': -6.067,\n",
      " 'mode': 1,\n",
      " 'name': 'Naan Yen',\n",
      " 'name_uri': 'spotify:track:0PuaYHseEiuGj3syu49k6G',\n",
      " 'play_count': 339,\n",
      " 'popularity': 26,\n",
      " 'speechiness': 0.0319,\n",
      " 'tempo': 157.897,\n",
      " 'time_signature': 3,\n",
      " 'track_href': 'https://api.spotify.com/v1/tracks/0PuaYHseEiuGj3syu49k6G',\n",
      " 'type': 'audio_features',\n",
      " 'uri': 'spotify:track:0PuaYHseEiuGj3syu49k6G',\n",
      " 'valence': 0.301}\n"
     ]
    }
   ],
   "source": [
    "final_data = json.load(open('final_data.json'))\n",
    "pprint(final_data[0]) "
   ]
  }
 ],
 "metadata": {
  "kernelspec": {
   "display_name": "Python 3",
   "language": "python",
   "name": "python3"
  },
  "language_info": {
   "codemirror_mode": {
    "name": "ipython",
    "version": 3
   },
   "file_extension": ".py",
   "mimetype": "text/x-python",
   "name": "python",
   "nbconvert_exporter": "python",
   "pygments_lexer": "ipython3",
   "version": "3.4.0"
  }
 },
 "nbformat": 4,
 "nbformat_minor": 0
}
